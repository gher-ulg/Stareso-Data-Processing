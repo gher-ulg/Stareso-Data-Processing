{
 "cells": [
  {
   "cell_type": "code",
   "execution_count": 14,
   "metadata": {
    "collapsed": true
   },
   "outputs": [],
   "source": [
    "import os\n",
    "import glob\n",
    "import datetime\n",
    "import logging"
   ]
  },
  {
   "cell_type": "code",
   "execution_count": 17,
   "metadata": {
    "collapsed": false
   },
   "outputs": [],
   "source": [
    "logger = logging.getLogger()\n",
    "logger.setLevel(logging.DEBUG)"
   ]
  },
  {
   "cell_type": "markdown",
   "metadata": {},
   "source": [
    "# User inputs"
   ]
  },
  {
   "cell_type": "markdown",
   "metadata": {},
   "source": [
    "## Files and directories"
   ]
  },
  {
   "cell_type": "code",
   "execution_count": 19,
   "metadata": {
    "collapsed": false
   },
   "outputs": [
    {
     "name": "stderr",
     "output_type": "stream",
     "text": [
      "DEBUG:root:Processing file ./data/Stareso100m_2012_2013_2017.txt\n",
      "DEBUG:root:Writing new file ./data/Stareso100m_2012_2013_2017_divand.txt\n"
     ]
    }
   ],
   "source": [
    "datadir = \"./data/\"\n",
    "datafile = os.path.join(datadir, \"Stareso100m_2012_2013_2017.txt\")\n",
    "outputdir = \"./data/\"\n",
    "outputfile = os.path.join(outputdir, \"Stareso100m_2012_2013_2017_divand.txt\")\n",
    "logging.debug('Processing file {0}'.format(datafile))\n",
    "logging.debug('Writing new file {0}'.format(outputfile))"
   ]
  },
  {
   "cell_type": "markdown",
   "metadata": {},
   "source": [
    "## Reference time"
   ]
  },
  {
   "cell_type": "code",
   "execution_count": 35,
   "metadata": {
    "collapsed": false
   },
   "outputs": [
    {
     "name": "stderr",
     "output_type": "stream",
     "text": [
      "INFO:root:Reference date: 2012-01-01 00:00:00\n"
     ]
    }
   ],
   "source": [
    "dateref = datetime.datetime(2012, 1, 1)\n",
    "logging.info('Reference date: {0}'.format(dateref))"
   ]
  },
  {
   "cell_type": "markdown",
   "metadata": {},
   "source": [
    "# Read and convert file"
   ]
  },
  {
   "cell_type": "code",
   "execution_count": 37,
   "metadata": {
    "collapsed": false
   },
   "outputs": [],
   "source": [
    "datelist = []\n",
    "depthlist = []\n",
    "salinitylist = []\n",
    "temperaturelist = []\n",
    "\n",
    "with open(outputfile, 'w') as fout:\n",
    "    with open(datafile, 'r') as f:\n",
    "        line = f.readline()\n",
    "        ncolumns = len(line.split('\\t'))\n",
    "        iline = 0\n",
    "        line = f.readline()\n",
    "        while line:\n",
    "            iline += 1\n",
    "            linesplit = line.lstrip().split('\\t')\n",
    "            thedate = datetime.datetime.strptime(linesplit[3], '%Y-%m-%dT%H:%M:%S')\n",
    "            numdays = (thedate - dateref).total_seconds() / 86400.\n",
    "            \n",
    "            datelist.append(thedate)\n",
    "            depthlist.append(float(linesplit[4]))\n",
    "            temperaturelist.append(float(linesplit[6]))\n",
    "            salinitylist.append(float(linesplit[5]))\n",
    "            \n",
    "            # Write in the output file\n",
    "            fout.writelines(\" \".join((str(numdays), linesplit[4], linesplit[6], '\\n')))\n",
    "\n",
    "            # Read new line\n",
    "            line = f.readline()"
   ]
  },
  {
   "cell_type": "code",
   "execution_count": 38,
   "metadata": {
    "collapsed": false
   },
   "outputs": [
    {
     "data": {
      "text/plain": [
       "1955.0"
      ]
     },
     "execution_count": 38,
     "metadata": {},
     "output_type": "execute_result"
    }
   ],
   "source": [
    "numdays"
   ]
  },
  {
   "cell_type": "code",
   "execution_count": null,
   "metadata": {
    "collapsed": true
   },
   "outputs": [],
   "source": []
  }
 ],
 "metadata": {
  "kernelspec": {
   "display_name": "Python 3",
   "language": "python",
   "name": "python3"
  },
  "language_info": {
   "codemirror_mode": {
    "name": "ipython",
    "version": 3
   },
   "file_extension": ".py",
   "mimetype": "text/x-python",
   "name": "python",
   "nbconvert_exporter": "python",
   "pygments_lexer": "ipython3",
   "version": "3.6.0"
  }
 },
 "nbformat": 4,
 "nbformat_minor": 2
}
