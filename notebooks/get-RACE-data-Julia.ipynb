{
 "cells": [
  {
   "cell_type": "markdown",
   "metadata": {},
   "source": [
    "Connect to [RACE](http://www.gitan.ulg.ac.be/cms/index.php?page=donnees-de-stareso#1.) database (*Rapid Assessment of the marine Coastal Environment*) and perform a simple data query. "
   ]
  },
  {
   "cell_type": "markdown",
   "metadata": {},
   "source": [
    "# Prerequisites\n",
    "\n",
    "1. You need to have a user name and password to access the database.\n",
    "2. If you're not using the ULg network (wired or wireless), it is necessary to use the ULg Virtual Private Network (VPN), otherwise the connection won't be authorised.\n",
    "3. Some packages have to be installed:\n",
    "  * [PostgreSQL](https://github.com/JuliaDB/PostgreSQL.jl)\n",
    "  * [DBI](https://github.com/JuliaDB/DBI.jl), a database-independent API\n",
    "  \n",
    "→ `Pkg.clone(); Pkg.build()`"
   ]
  },
  {
   "cell_type": "markdown",
   "metadata": {},
   "source": [
    "## Load packages"
   ]
  },
  {
   "cell_type": "code",
   "execution_count": null,
   "metadata": {
    "collapsed": false
   },
   "outputs": [],
   "source": [
    "using Logging\n",
    "using PostgreSQL\n",
    "using DBI"
   ]
  },
  {
   "cell_type": "code",
   "execution_count": null,
   "metadata": {
    "collapsed": false
   },
   "outputs": [],
   "source": [
    "libpq = PostgreSQL.libpq_interface"
   ]
  },
  {
   "cell_type": "code",
   "execution_count": null,
   "metadata": {
    "collapsed": false
   },
   "outputs": [],
   "source": [
    "windQuery = \"select daytime as date, speed as ws, direction as wd from (select daytime, tssta_codesta,  max(speed) as speed, max(direction) as direction from (SELECT data.daytime, timeseries.tssta_codesta, data.datavalue as speed, NULL as direction FROM public.data, public.timeseries WHERE timeseries.codeds = data.dasa_codeds AND  timeseries.tssta_codesta = 'INSJD' AND data.dataparam_codeparam = 'windspeed' UNION SELECT data.daytime, timeseries.tssta_codesta, NULL as speed, data.datavalue as direction FROM public.data, public.timeseries WHERE timeseries.codeds = data.dasa_codeds AND timeseries.tssta_codesta = 'INSJD' AND data.dataparam_codeparam = 'winddir') tabletempo GROUP BY daytime, tssta_codesta ORDER BY daytime) tabletempo2 where daytime BETWEEN '2014-02-01 00:00:00' AND  '2014-03-01 00:00:00'\""
   ]
  },
  {
   "cell_type": "code",
   "execution_count": null,
   "metadata": {
    "collapsed": false
   },
   "outputs": [],
   "source": [
    "conn = connect(Postgres, \"10.16.8.17\", \"master\", \"master_gher\", \"race_db_v2\", 5432)\n",
    "stmt = prepare(conn, windQuery)\n",
    "result = execute(stmt)\n",
    "finish(stmt)\n",
    "disconnect(conn)"
   ]
  },
  {
   "cell_type": "code",
   "execution_count": null,
   "metadata": {
    "collapsed": false
   },
   "outputs": [],
   "source": [
    "conn.status == PostgreSQL.CONNECTION_OK"
   ]
  },
  {
   "cell_type": "code",
   "execution_count": 3,
   "metadata": {
    "collapsed": false
   },
   "outputs": [
    {
     "name": "stderr",
     "output_type": "stream",
     "text": [
      "WARNING: Method definition describe(AbstractArray) in module StatsBase at /home/ctroupin/.julia/v0.5/StatsBase/src/scalarstats.jl:573 overwritten in module DataFrames at /home/ctroupin/.julia/v0.5/DataFrames/src/abstractdataframe/abstractdataframe.jl:407.\n"
     ]
    }
   ],
   "source": [
    "using ODBC"
   ]
  },
  {
   "cell_type": "code",
   "execution_count": null,
   "metadata": {
    "collapsed": false
   },
   "outputs": [],
   "source": [
    "reload(\"ODBC\")\n",
    "\n",
    "@show ODBC.listdrivers()\n",
    "@show ODBC.listdsns()\n",
    "\n",
    "using HTTP\n",
    "\n",
    "db = HTTP.get(\"http://api.postgression.com\")\n",
    "dsn = ODBC.DSN(\"Driver={PostgreSQL};Server=\")"
   ]
  },
  {
   "cell_type": "code",
   "execution_count": 4,
   "metadata": {
    "collapsed": false
   },
   "outputs": [
    {
     "name": "stdout",
     "output_type": "stream",
     "text": [
      "[ODBC] IM002: [unixODBC][Driver Manager]Data source name not found, and no default driver specified\n"
     ]
    },
    {
     "ename": "LoadError",
     "evalue": "ODBC.ODBCError(\"ODBC.API.SQLDriverConnect(dbc,window_handle,conn_string,out_conn.ptr,BUFLEN,out_buff,driver_prompt) failed; return code: -1 => SQL_ERROR\")",
     "output_type": "error",
     "traceback": [
      "ODBC.ODBCError(\"ODBC.API.SQLDriverConnect(dbc,window_handle,conn_string,out_conn.ptr,BUFLEN,out_buff,driver_prompt) failed; return code: -1 => SQL_ERROR\")",
      "",
      " in macro expansion at /home/ctroupin/.julia/v0.5/ODBC/src/ODBC.jl:57 [inlined]",
      " in ODBCDriverConnect!(::Ptr{Void}, ::String, ::Bool) at /home/ctroupin/.julia/v0.5/ODBC/src/Source.jl:23",
      " in #DSN#3(::Bool, ::Type{T}, ::String, ::String, ::String) at /home/ctroupin/.julia/v0.5/ODBC/src/ODBC.jl:126",
      " in ODBC.DSN(::String) at /home/ctroupin/.julia/v0.5/ODBC/src/ODBC.jl:117"
     ]
    }
   ],
   "source": [
    "dsn = ODBC.DSN(ff)"
   ]
  },
  {
   "cell_type": "code",
   "execution_count": 1,
   "metadata": {
    "collapsed": false
   },
   "outputs": [
    {
     "data": {
      "text/plain": [
       "\"User ID=master;Password=master_gher;Host=10.16.8.17;Port=5432;Database=race_db_v2;\\nPooling=true;Min Pool Size=0;Max Pool Size=100;Connection Lifetime=0;\""
      ]
     },
     "execution_count": 1,
     "metadata": {},
     "output_type": "execute_result"
    }
   ],
   "source": [
    "ff = \"User ID=master;Password=master_gher;Host=10.16.8.17;Port=5432;Database=race_db_v2;\n",
    "Pooling=true;Min Pool Size=0;Max Pool Size=100;Connection Lifetime=0;\""
   ]
  },
  {
   "cell_type": "code",
   "execution_count": null,
   "metadata": {
    "collapsed": true
   },
   "outputs": [],
   "source": []
  }
 ],
 "metadata": {
  "kernelspec": {
   "display_name": "Julia 0.5.1",
   "language": "julia",
   "name": "julia-0.5"
  },
  "language_info": {
   "file_extension": ".jl",
   "mimetype": "application/julia",
   "name": "julia",
   "version": "0.5.1"
  }
 },
 "nbformat": 4,
 "nbformat_minor": 2
}
